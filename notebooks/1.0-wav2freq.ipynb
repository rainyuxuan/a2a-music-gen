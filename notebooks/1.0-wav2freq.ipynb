{
 "cells": [
  {
   "cell_type": "markdown",
   "source": [
    "# Transform WAV files to Frequency Domain"
   ],
   "metadata": {
    "collapsed": false
   },
   "id": "6131ed0687ef3948"
  },
  {
   "cell_type": "code",
   "outputs": [],
   "source": [
    "from src.visualization import visualization\n",
    "from src.data import loader\n",
    "from src.features import fft, fragmentation\n",
    "\n",
    "\n",
    "loader_wav = loader.WaveLoader()\n",
    "data_path = \"/Users/xunuo/Desktop/a2a-music-gen/data/raw/musicnet/musicnet/test_data/1759.wav\"\n",
    "data, sr = loader_wav.load(data_path)\n",
    "print(f\"sampling rate is {sr}\")\n",
    "print(f\"shape of data is {data.shape}\")\n",
    "frag = fragmentation.Fragmentation()\n",
    "slices = frag.fix_size_frag(data, sr, slice_size_sec=3)\n",
    "\n",
    "\n",
    "# test save all wav file\n",
    "count = 1\n",
    "for slice in slices:\n",
    "    loader_wav.save(slice, sr, \"/Users/xunuo/Desktop/a2a-music-gen/fragmentation_test\", str(count))\n",
    "    count += 1\n",
    "\n",
    "\n",
    "# test fft transform and visualize\n",
    "slice1_fft = fft.fourier_transform(slices[0])\n",
    "\n",
    "# test visualization\n",
    "visualization.visual_fft(slice1_fft, sr)\n"
   ],
   "metadata": {
    "collapsed": false
   },
   "id": "3553e74bb7b13e56"
  },
  {
   "cell_type": "code",
   "outputs": [],
   "source": [
    "from src.data import WaveDataset, SpectrogramDataset\n",
    "from torch.utils.data import DataLoader\n",
    "\n",
    "\n",
    "dataset = WaveDataset(\"data/raw/musicnet/train_data\")\n",
    "wav_loader = DataLoader(dataset, batch_size=2, shuffle=True)"
   ],
   "metadata": {
    "collapsed": false
   },
   "id": "db693ec9ef3bee92"
  },
  {
   "cell_type": "code",
   "outputs": [],
   "source": [
    "for i, data in enumerate(wav_loader):\n",
    "    print(i, data.shape)\n",
    "    if i == 10:\n",
    "        break"
   ],
   "metadata": {
    "collapsed": false
   },
   "id": "ed4c8cce128c18ee"
  },
  {
   "cell_type": "code",
   "outputs": [],
   "source": [],
   "metadata": {
    "collapsed": false
   },
   "id": "94793ddddfed3d65"
  }
 ],
 "metadata": {
  "kernelspec": {
   "display_name": "Python 3",
   "language": "python",
   "name": "python3"
  },
  "language_info": {
   "codemirror_mode": {
    "name": "ipython",
    "version": 2
   },
   "file_extension": ".py",
   "mimetype": "text/x-python",
   "name": "python",
   "nbconvert_exporter": "python",
   "pygments_lexer": "ipython2",
   "version": "2.7.6"
  }
 },
 "nbformat": 4,
 "nbformat_minor": 5
}
