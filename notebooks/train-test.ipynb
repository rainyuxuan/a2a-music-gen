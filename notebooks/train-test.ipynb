{
 "cells": [
  {
   "cell_type": "code",
   "execution_count": null,
   "metadata": {},
   "outputs": [],
   "source": [
    "from src.models.trainer import *\n",
    "import numpy as np\n",
    "import torch\n",
    "\n",
    "from torch.utils.data import DataLoader, Dataset, random_split, TensorDataset\n",
    "\n",
    "\n",
    "class Dummy_Trainer(Trainer):\n",
    "    def create_model(self):\n",
    "        self.model = nn.Sequential(nn.Linear(64, 32), nn.ReLU(), nn.Linear(32, 7))\n",
    "\n",
    "\n",
    "dummy_trainer = Dummy_Trainer()\n",
    "dummy_trainer.create_model()\n",
    "\n",
    "data = []\n",
    "label = []\n",
    "\n",
    "for i in range(30):\n",
    "    data.append(np.random.rand(64))\n",
    "    label.append(np.random.rand(7))\n",
    "\n",
    "dataset = TensorDataset(torch.Tensor(data), torch.Tensor(label))\n",
    "\n",
    "train_ds, val_ds, test_ds = random_split(dataset, [10, 10, 10])\n",
    "\n",
    "train_loader = DataLoader(train_ds, batch_size=2)\n",
    "val_loader = DataLoader(val_ds, batch_size=2)\n",
    "test_loader = DataLoader(test_ds, batch_size=2)\n",
    "\n",
    "dummy_trainer.set_dataloaders(train_loader, val_loader, test_loader)\n",
    "\n",
    "history = dummy_trainer.train(0.0, 0.001, 5)\n",
    "\n",
    "print(history)"
   ]
  }
 ],
 "metadata": {
  "language_info": {
   "name": "python"
  }
 },
 "nbformat": 4,
 "nbformat_minor": 2
}
