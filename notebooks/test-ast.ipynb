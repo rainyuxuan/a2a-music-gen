{
 "cells": [
  {
   "cell_type": "code",
   "execution_count": 1,
   "id": "initial_id",
   "metadata": {
    "ExecuteTime": {
     "end_time": "2024-04-14T03:13:41.543640Z",
     "start_time": "2024-04-14T03:13:41.539004Z"
    },
    "collapsed": true
   },
   "outputs": [
    {
     "name": "stderr",
     "output_type": "stream",
     "text": [
      "/home/hutiany4/miniconda3/envs/a2a-music-gen/lib/python3.11/site-packages/tqdm/auto.py:21: TqdmWarning: IProgress not found. Please update jupyter and ipywidgets. See https://ipywidgets.readthedocs.io/en/stable/user_install.html\n",
      "  from .autonotebook import tqdm as notebook_tqdm\n"
     ]
    }
   ],
   "source": [
    "import os\n",
    "import sys\n",
    "\n",
    "module_path = os.path.abspath(os.path.join('..'))\n",
    "if module_path not in sys.path:\n",
    "    sys.path.append(module_path+\"/src\")\n",
    "    \n",
    "from models.trainer import *\n",
    "import numpy as np\n",
    "import torch\n",
    "from models.spectro_transformer import *\n",
    "from data.dataset import *\n",
    "from torch.utils.data import DataLoader, Dataset, random_split, TensorDataset"
   ]
  },
  {
   "cell_type": "code",
   "execution_count": 2,
   "id": "b5d63d3c",
   "metadata": {},
   "outputs": [
    {
     "name": "stdout",
     "output_type": "stream",
     "text": [
      "token_len: 201, seq_len: 744\n"
     ]
    }
   ],
   "source": [
    "wdir = os.getcwd().replace(\"\\\\\", \"/\") + \"/..\"\n",
    "processed_dir = f\"{wdir}/data/processed/musicnet\"\n",
    "\n",
    "spec_dataset = SpectrogramDataset(\n",
    "    f\"{processed_dir}/train_data\", split_ratio=0.9\n",
    ")\n",
    "\n",
    "token_size = spec_dataset[0][0].shape[0]\n",
    "seq_size = spec_dataset[0][0].shape[1]\n",
    "out_size = spec_dataset[0][1].shape[1]\n",
    "\n",
    "train_set, val_set = random_split(spec_dataset, [0.8, 0.2])\n",
    "\n",
    "train_loader = DataLoader(train_set, batch_size=5, shuffle=True)\n",
    "val_loader = DataLoader(val_set, batch_size=5, shuffle=True)\n",
    "\n",
    "for x, y, _ in train_loader:\n",
    "    batch_size, token_len, seq_len = x.shape[0], x.shape[1], x.shape[2]\n",
    "    print(f\"token_len: {token_len}, seq_len: {seq_len}\")\n",
    "    break"
   ]
  },
  {
   "cell_type": "code",
   "execution_count": 3,
   "id": "1f50a3102f34654a",
   "metadata": {
    "ExecuteTime": {
     "end_time": "2024-04-14T03:13:47.909218Z",
     "start_time": "2024-04-14T03:13:45.139099Z"
    }
   },
   "outputs": [],
   "source": [
    "configuration = ASTConfig()\n",
    "configuration.num_mel_bins = token_len # dimension size of frequency\n",
    "configuration.max_length = seq_len      # dimension size of input time length\n",
    "configuration.hidden_dropout_prob = 0.2\n",
    "configuration.hidden_size = 60\n",
    "configuration.num_hidden_layers = 1\n",
    "model = AST(configuration)"
   ]
  },
  {
   "cell_type": "code",
   "execution_count": 4,
   "id": "6748c52d3babb3d2",
   "metadata": {
    "ExecuteTime": {
     "end_time": "2024-04-14T03:14:57.166627Z",
     "start_time": "2024-04-14T03:13:59.335914Z"
    }
   },
   "outputs": [
    {
     "name": "stderr",
     "output_type": "stream",
     "text": [
      "Train epoch 0: 100%|██████████| 52/52 [03:27<00:00,  3.99s/it]\n",
      "Validation epoch 0: 100%|██████████| 13/13 [00:18<00:00,  1.40s/it]\n"
     ]
    },
    {
     "name": "stdout",
     "output_type": "stream",
     "text": [
      "\n",
      "Epoch: 0 \tTraining Loss: 31.5586 \tValidation Loss: 29.0290\n",
      "\t \tTraining Accuracy: 30.09% \tValidation Accuracy: 32.49%\n"
     ]
    },
    {
     "name": "stderr",
     "output_type": "stream",
     "text": [
      "Train epoch 1: 100%|██████████| 52/52 [03:26<00:00,  3.97s/it]\n",
      "Validation epoch 1: 100%|██████████| 13/13 [00:18<00:00,  1.39s/it]\n"
     ]
    },
    {
     "name": "stdout",
     "output_type": "stream",
     "text": [
      "\n",
      "Epoch: 1 \tTraining Loss: 31.5217 \tValidation Loss: 28.9913\n",
      "\t \tTraining Accuracy: 31.61% \tValidation Accuracy: 32.65%\n"
     ]
    },
    {
     "name": "stderr",
     "output_type": "stream",
     "text": [
      "Train epoch 2:  54%|█████▍    | 28/52 [01:53<01:36,  4.04s/it]\n"
     ]
    },
    {
     "ename": "KeyboardInterrupt",
     "evalue": "",
     "output_type": "error",
     "traceback": [
      "\u001b[0;31m---------------------------------------------------------------------------\u001b[0m",
      "\u001b[0;31mKeyboardInterrupt\u001b[0m                         Traceback (most recent call last)",
      "Cell \u001b[0;32mIn[4], line 4\u001b[0m\n\u001b[1;32m      2\u001b[0m Trainer\u001b[38;5;241m.\u001b[39mset_dataloaders(train_loader\u001b[38;5;241m=\u001b[39mtrain_loader, val_loader\u001b[38;5;241m=\u001b[39mval_loader, test_loader\u001b[38;5;241m=\u001b[39m\u001b[38;5;28;01mNone\u001b[39;00m)\n\u001b[1;32m      3\u001b[0m Trainer\u001b[38;5;241m.\u001b[39mmodel \u001b[38;5;241m=\u001b[39m model\n\u001b[0;32m----> 4\u001b[0m \u001b[43mTrainer\u001b[49m\u001b[38;5;241;43m.\u001b[39;49m\u001b[43mtrain\u001b[49m\u001b[43m(\u001b[49m\u001b[38;5;241;43m1e-4\u001b[39;49m\u001b[43m,\u001b[49m\u001b[43m \u001b[49m\u001b[38;5;241;43m1e-2\u001b[39;49m\u001b[43m,\u001b[49m\u001b[43m \u001b[49m\u001b[38;5;241;43m10\u001b[39;49m\u001b[43m)\u001b[49m\n",
      "File \u001b[0;32m/mnt/d/Study/csc413/project/src/models/spectro_transformer.py:69\u001b[0m, in \u001b[0;36mAST_trainer.train\u001b[0;34m(self, weight_decay, learning_rate, num_epochs, device)\u001b[0m\n\u001b[1;32m     67\u001b[0m loss \u001b[38;5;241m=\u001b[39m criterion(cur_output, target[:, :, i]) \u001b[38;5;241m/\u001b[39m target\u001b[38;5;241m.\u001b[39mshape[\u001b[38;5;241m1\u001b[39m]\n\u001b[1;32m     68\u001b[0m loss\u001b[38;5;241m.\u001b[39mbackward()\n\u001b[0;32m---> 69\u001b[0m batch_loss \u001b[38;5;241m+\u001b[39m\u001b[38;5;241m=\u001b[39m \u001b[43mloss\u001b[49m\u001b[38;5;241;43m.\u001b[39;49m\u001b[43mitem\u001b[49m\u001b[43m(\u001b[49m\u001b[43m)\u001b[49m\n\u001b[1;32m     70\u001b[0m output[:, :, i] \u001b[38;5;241m=\u001b[39m cur_output\n\u001b[1;32m     71\u001b[0m data \u001b[38;5;241m=\u001b[39m torch\u001b[38;5;241m.\u001b[39mcat((data[:, :, \u001b[38;5;241m1\u001b[39m:], torch\u001b[38;5;241m.\u001b[39munsqueeze(target[:, :, i], dim\u001b[38;5;241m=\u001b[39m\u001b[38;5;241m-\u001b[39m\u001b[38;5;241m1\u001b[39m)), dim\u001b[38;5;241m=\u001b[39m\u001b[38;5;241m-\u001b[39m\u001b[38;5;241m1\u001b[39m)\n",
      "\u001b[0;31mKeyboardInterrupt\u001b[0m: "
     ]
    }
   ],
   "source": [
    "trainer = AST_trainer()\n",
    "trainer.set_dataloaders(train_loader=train_loader, val_loader=val_loader, test_loader=None)\n",
    "trainer.model = model\n",
    "history = trainer.train(1e-4, 1e-2, 10)\n"
   ]
  },
  {
   "cell_type": "code",
   "execution_count": null,
   "id": "f5a3b60f",
   "metadata": {},
   "outputs": [],
   "source": [
    "import matplotlib.pyplot as plt\n",
    "import numpy as np\n",
    "\n",
    "val_loss = history[\"val_loss\"].to_list()\n",
    "train_loss = history[\"train_loss\"].to_list()\n",
    "val_acc = history[\"val_acc\"].to_list()\n",
    "train_acc = history[\"train_acc\"].to_list()\n",
    "x = np.arange(history.shape[0])\n",
    "\n",
    "fig = plt.figure(0)\n",
    "plt.plot(x, train_loss)\n",
    "fig = plt.figure(1)\n",
    "plt.plot(x, val_loss)\n",
    "fig = plt.figure(2)\n",
    "plt.plot(x, train_acc)\n",
    "fig = plt.figure(3)\n",
    "plt.plot(x, val_acc)\n",
    "plt.show()"
   ]
  }
 ],
 "metadata": {
  "kernelspec": {
   "display_name": "Python 3",
   "language": "python",
   "name": "python3"
  },
  "language_info": {
   "codemirror_mode": {
    "name": "ipython",
    "version": 3
   },
   "file_extension": ".py",
   "mimetype": "text/x-python",
   "name": "python",
   "nbconvert_exporter": "python",
   "pygments_lexer": "ipython3",
   "version": "3.11.8"
  }
 },
 "nbformat": 4,
 "nbformat_minor": 5
}
