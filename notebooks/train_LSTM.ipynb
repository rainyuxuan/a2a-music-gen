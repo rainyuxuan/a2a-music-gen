{
 "cells": [
  {
   "cell_type": "code",
   "execution_count": 1,
   "metadata": {},
   "outputs": [],
   "source": [
    "import os\n",
    "import sys\n",
    "\n",
    "module_path = os.path.abspath(os.path.join('..'))\n",
    "if module_path not in sys.path:\n",
    "    sys.path.append(module_path+\"/src\")\n",
    "\n",
    "from models import *\n",
    "from features import *\n",
    "from data.dataset import SpectrogramDataset\n",
    "from torch.utils.data import random_split"
   ]
  },
  {
   "cell_type": "code",
   "execution_count": 2,
   "metadata": {},
   "outputs": [
    {
     "name": "stderr",
     "output_type": "stream",
     "text": [
      "Train epoch 1: 100%|██████████| 12/12 [03:34<00:00, 17.84s/it]\n",
      "Validation epoch 1: 100%|██████████| 3/3 [00:08<00:00,  2.68s/it]\n"
     ]
    },
    {
     "name": "stdout",
     "output_type": "stream",
     "text": [
      "\n",
      "Epoch: 0 \tTraining Loss: 0.0536 \tValidation Loss: 5.5430\n",
      "\t \tTraining Accuracy: 5.18% \tValidation Accuracy: 6.79%\n"
     ]
    },
    {
     "name": "stderr",
     "output_type": "stream",
     "text": [
      "Train epoch 2: 100%|██████████| 12/12 [03:32<00:00, 17.69s/it]\n",
      "Validation epoch 2: 100%|██████████| 3/3 [00:08<00:00,  2.68s/it]\n"
     ]
    },
    {
     "name": "stdout",
     "output_type": "stream",
     "text": [
      "\n",
      "Epoch: 1 \tTraining Loss: 0.0535 \tValidation Loss: 5.5337\n",
      "\t \tTraining Accuracy: 6.42% \tValidation Accuracy: 8.44%\n"
     ]
    },
    {
     "name": "stderr",
     "output_type": "stream",
     "text": [
      "Train epoch 3: 100%|██████████| 12/12 [03:33<00:00, 17.79s/it]\n",
      "Validation epoch 3: 100%|██████████| 3/3 [00:08<00:00,  2.69s/it]\n"
     ]
    },
    {
     "name": "stdout",
     "output_type": "stream",
     "text": [
      "\n",
      "Epoch: 2 \tTraining Loss: 0.0534 \tValidation Loss: 5.5237\n",
      "\t \tTraining Accuracy: 8.84% \tValidation Accuracy: 11.09%\n"
     ]
    },
    {
     "name": "stderr",
     "output_type": "stream",
     "text": [
      "Train epoch 4: 100%|██████████| 12/12 [03:32<00:00, 17.67s/it]\n",
      "Validation epoch 4: 100%|██████████| 3/3 [00:08<00:00,  2.71s/it]\n"
     ]
    },
    {
     "name": "stdout",
     "output_type": "stream",
     "text": [
      "\n",
      "Epoch: 3 \tTraining Loss: 0.0534 \tValidation Loss: 5.5123\n",
      "\t \tTraining Accuracy: 12.48% \tValidation Accuracy: 14.81%\n"
     ]
    },
    {
     "name": "stderr",
     "output_type": "stream",
     "text": [
      "Train epoch 5: 100%|██████████| 12/12 [03:31<00:00, 17.64s/it]\n",
      "Validation epoch 5: 100%|██████████| 3/3 [00:08<00:00,  2.70s/it]\n"
     ]
    },
    {
     "name": "stdout",
     "output_type": "stream",
     "text": [
      "\n",
      "Epoch: 4 \tTraining Loss: 0.0532 \tValidation Loss: 5.4957\n",
      "\t \tTraining Accuracy: 17.67% \tValidation Accuracy: 19.62%\n"
     ]
    },
    {
     "name": "stderr",
     "output_type": "stream",
     "text": [
      "Train epoch 6: 100%|██████████| 12/12 [03:31<00:00, 17.65s/it]\n",
      "Validation epoch 6: 100%|██████████| 3/3 [00:08<00:00,  2.67s/it]\n"
     ]
    },
    {
     "name": "stdout",
     "output_type": "stream",
     "text": [
      "\n",
      "Epoch: 5 \tTraining Loss: 0.0531 \tValidation Loss: 5.4683\n",
      "\t \tTraining Accuracy: 24.04% \tValidation Accuracy: 24.63%\n"
     ]
    },
    {
     "name": "stderr",
     "output_type": "stream",
     "text": [
      "Train epoch 7: 100%|██████████| 12/12 [03:31<00:00, 17.63s/it]\n",
      "Validation epoch 7: 100%|██████████| 3/3 [00:08<00:00,  2.72s/it]\n"
     ]
    },
    {
     "name": "stdout",
     "output_type": "stream",
     "text": [
      "\n",
      "Epoch: 6 \tTraining Loss: 0.0528 \tValidation Loss: 5.4109\n",
      "\t \tTraining Accuracy: 30.10% \tValidation Accuracy: 28.22%\n"
     ]
    },
    {
     "name": "stderr",
     "output_type": "stream",
     "text": [
      "Train epoch 8: 100%|██████████| 12/12 [03:30<00:00, 17.58s/it]\n",
      "Validation epoch 8: 100%|██████████| 3/3 [00:08<00:00,  2.74s/it]\n"
     ]
    },
    {
     "name": "stdout",
     "output_type": "stream",
     "text": [
      "\n",
      "Epoch: 7 \tTraining Loss: 0.0520 \tValidation Loss: 5.3816\n",
      "\t \tTraining Accuracy: 33.75% \tValidation Accuracy: 29.19%\n"
     ]
    },
    {
     "name": "stderr",
     "output_type": "stream",
     "text": [
      "Train epoch 9: 100%|██████████| 12/12 [03:31<00:00, 17.64s/it]\n",
      "Validation epoch 9: 100%|██████████| 3/3 [00:08<00:00,  2.73s/it]\n"
     ]
    },
    {
     "name": "stdout",
     "output_type": "stream",
     "text": [
      "\n",
      "Epoch: 8 \tTraining Loss: 0.0513 \tValidation Loss: 5.4135\n",
      "\t \tTraining Accuracy: 35.18% \tValidation Accuracy: 29.10%\n"
     ]
    },
    {
     "name": "stderr",
     "output_type": "stream",
     "text": [
      "Train epoch 10: 100%|██████████| 12/12 [03:43<00:00, 18.62s/it]\n",
      "Validation epoch 10: 100%|██████████| 3/3 [00:08<00:00,  2.80s/it]"
     ]
    },
    {
     "name": "stdout",
     "output_type": "stream",
     "text": [
      "\n",
      "Epoch: 9 \tTraining Loss: 0.0512 \tValidation Loss: 5.4760\n",
      "\t \tTraining Accuracy: 35.80% \tValidation Accuracy: 29.09%\n"
     ]
    },
    {
     "name": "stderr",
     "output_type": "stream",
     "text": [
      "\n"
     ]
    },
    {
     "data": {
      "text/html": [
       "<div>\n",
       "<style scoped>\n",
       "    .dataframe tbody tr th:only-of-type {\n",
       "        vertical-align: middle;\n",
       "    }\n",
       "\n",
       "    .dataframe tbody tr th {\n",
       "        vertical-align: top;\n",
       "    }\n",
       "\n",
       "    .dataframe thead th {\n",
       "        text-align: right;\n",
       "    }\n",
       "</style>\n",
       "<table border=\"1\" class=\"dataframe\">\n",
       "  <thead>\n",
       "    <tr style=\"text-align: right;\">\n",
       "      <th></th>\n",
       "      <th>train_loss</th>\n",
       "      <th>val_loss</th>\n",
       "      <th>train_acc</th>\n",
       "      <th>val_acc</th>\n",
       "    </tr>\n",
       "  </thead>\n",
       "  <tbody>\n",
       "    <tr>\n",
       "      <th>0</th>\n",
       "      <td>0.053594</td>\n",
       "      <td>5.543047</td>\n",
       "      <td>0.051775</td>\n",
       "      <td>0.067889</td>\n",
       "    </tr>\n",
       "    <tr>\n",
       "      <th>1</th>\n",
       "      <td>0.053515</td>\n",
       "      <td>5.533656</td>\n",
       "      <td>0.064226</td>\n",
       "      <td>0.084424</td>\n",
       "    </tr>\n",
       "    <tr>\n",
       "      <th>2</th>\n",
       "      <td>0.053443</td>\n",
       "      <td>5.523678</td>\n",
       "      <td>0.088414</td>\n",
       "      <td>0.110923</td>\n",
       "    </tr>\n",
       "    <tr>\n",
       "      <th>3</th>\n",
       "      <td>0.053358</td>\n",
       "      <td>5.512339</td>\n",
       "      <td>0.124820</td>\n",
       "      <td>0.148075</td>\n",
       "    </tr>\n",
       "    <tr>\n",
       "      <th>4</th>\n",
       "      <td>0.053246</td>\n",
       "      <td>5.495730</td>\n",
       "      <td>0.176664</td>\n",
       "      <td>0.196180</td>\n",
       "    </tr>\n",
       "    <tr>\n",
       "      <th>5</th>\n",
       "      <td>0.053057</td>\n",
       "      <td>5.468264</td>\n",
       "      <td>0.240359</td>\n",
       "      <td>0.246275</td>\n",
       "    </tr>\n",
       "    <tr>\n",
       "      <th>6</th>\n",
       "      <td>0.052758</td>\n",
       "      <td>5.410923</td>\n",
       "      <td>0.301019</td>\n",
       "      <td>0.282153</td>\n",
       "    </tr>\n",
       "    <tr>\n",
       "      <th>7</th>\n",
       "      <td>0.051979</td>\n",
       "      <td>5.381569</td>\n",
       "      <td>0.337515</td>\n",
       "      <td>0.291867</td>\n",
       "    </tr>\n",
       "    <tr>\n",
       "      <th>8</th>\n",
       "      <td>0.051288</td>\n",
       "      <td>5.413549</td>\n",
       "      <td>0.351813</td>\n",
       "      <td>0.290974</td>\n",
       "    </tr>\n",
       "    <tr>\n",
       "      <th>9</th>\n",
       "      <td>0.051222</td>\n",
       "      <td>5.475987</td>\n",
       "      <td>0.357953</td>\n",
       "      <td>0.290907</td>\n",
       "    </tr>\n",
       "  </tbody>\n",
       "</table>\n",
       "</div>"
      ],
      "text/plain": [
       "   train_loss  val_loss  train_acc   val_acc\n",
       "0    0.053594  5.543047   0.051775  0.067889\n",
       "1    0.053515  5.533656   0.064226  0.084424\n",
       "2    0.053443  5.523678   0.088414  0.110923\n",
       "3    0.053358  5.512339   0.124820  0.148075\n",
       "4    0.053246  5.495730   0.176664  0.196180\n",
       "5    0.053057  5.468264   0.240359  0.246275\n",
       "6    0.052758  5.410923   0.301019  0.282153\n",
       "7    0.051979  5.381569   0.337515  0.291867\n",
       "8    0.051288  5.413549   0.351813  0.290974\n",
       "9    0.051222  5.475987   0.357953  0.290907"
      ]
     },
     "execution_count": 2,
     "metadata": {},
     "output_type": "execute_result"
    }
   ],
   "source": [
    "wdir = os.getcwd()\n",
    "path = f\"{wdir}/../data/processed/musicnet\"\n",
    "spec_dataset = SpectrogramDataset(\n",
    "    f\"{path}/train_data\", label_dir=f\"{path}/train_labels\"\n",
    ")\n",
    "\n",
    "# mini_dataset = [spec_dataset[i] for i in range(30)]\n",
    "mini_dataset = [(spec_dataset[i][0][:, :100],\n",
    "                 spec_dataset[i][1][:, :30],\n",
    "                 spec_dataset[i][2]) for i in range(30)]\n",
    "\n",
    "token_size = mini_dataset[0][0].shape[0]\n",
    "seq_len = mini_dataset[0][0].shape[1]\n",
    "output_size = mini_dataset[0][1].shape[1]\n",
    "\n",
    "train_set, valid_set = random_split(mini_dataset, [0.8, 0.2])\n",
    "\n",
    "train_dl = DataLoader(train_set, batch_size=2, shuffle=True)\n",
    "valid_dl = DataLoader(valid_set, batch_size=2, shuffle=True)\n",
    "trainer = LSTMTrainer()\n",
    "trainer.create_model(input_size = seq_len, \n",
    "                     hidden_size = 32, \n",
    "                     output_size = output_size,\n",
    "                     token_size = token_size,\n",
    "                     dropout = 0.2,\n",
    "                     batch_size = 2,\n",
    "                     bias = True)\n",
    "trainer.set_dataloaders(train_loader=train_dl, val_loader=valid_dl, test_loader=None)\n",
    "trainer.train(0.001, 0.001, 10)"
   ]
  },
  {
   "cell_type": "code",
   "execution_count": 5,
   "metadata": {},
   "outputs": [
    {
     "data": {
      "text/plain": [
       "torch.Size([201, 993])"
      ]
     },
     "execution_count": 5,
     "metadata": {},
     "output_type": "execute_result"
    }
   ],
   "source": [
    "mini_dataset = [(spec_dataset[i][0][:, :100],\n",
    "                 spec_dataset[i][1][:, :30],\n",
    "                 spec_dataset[i][2]) for i in range(30)]"
   ]
  }
 ],
 "metadata": {
  "kernelspec": {
   "display_name": "a2a-music-gen",
   "language": "python",
   "name": "python3"
  },
  "language_info": {
   "codemirror_mode": {
    "name": "ipython",
    "version": 3
   },
   "file_extension": ".py",
   "mimetype": "text/x-python",
   "name": "python",
   "nbconvert_exporter": "python",
   "pygments_lexer": "ipython3",
   "version": "3.11.8"
  }
 },
 "nbformat": 4,
 "nbformat_minor": 2
}
